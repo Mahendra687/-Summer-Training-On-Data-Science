{
 "cells": [
  {
   "cell_type": "code",
   "execution_count": 1,
   "id": "af9f86c7",
   "metadata": {},
   "outputs": [],
   "source": [
    "from pandas import*\n",
    "from numpy import*\n",
    "import numpy as np\n",
    "import pandas as pd\n",
    "import matplotlib.pyplot as plt"
   ]
  },
  {
   "cell_type": "markdown",
   "id": "95f5fba3",
   "metadata": {},
   "source": [
    "#### Machine Learning: 2\n",
    "\n",
    "1.Gradient Desent: find the best fit line for given trainig set but how?\n",
    "\n",
    "2.MSE =  (predicted - actual value) also called cost function\n",
    "\n",
    "3.Partial derivatives \n",
    "\n",
    "4.Minimizing error\n",
    "\n",
    "5.Learning rate, how we calculate the learning rate\n",
    "\n",
    "6 how the math work behind the SK Learn\n",
    "\n",
    "7.Gradient 3D plot with MSE\n",
    "\n",
    "8.math.isclose()\n",
    "\n",
    "9.How to save a model: joblib and pickle functions\n",
    "\n",
    "\n",
    "\n",
    "Conclusion \n",
    "we need to find out the slope\n",
    "\n",
    "\n"
   ]
  },
  {
   "cell_type": "markdown",
   "id": "24f16110",
   "metadata": {},
   "source": [
    "#### import dataset"
   ]
  },
  {
   "cell_type": "code",
   "execution_count": null,
   "id": "810d75fb",
   "metadata": {},
   "outputs": [],
   "source": []
  },
  {
   "cell_type": "code",
   "execution_count": null,
   "id": "269f5a84",
   "metadata": {},
   "outputs": [],
   "source": []
  },
  {
   "cell_type": "code",
   "execution_count": 2,
   "id": "ef19cd02",
   "metadata": {},
   "outputs": [],
   "source": [
    "data = read_csv('salaryData.csv')"
   ]
  },
  {
   "cell_type": "code",
   "execution_count": 3,
   "id": "79437752",
   "metadata": {},
   "outputs": [
    {
     "data": {
      "text/html": [
       "<div>\n",
       "<style scoped>\n",
       "    .dataframe tbody tr th:only-of-type {\n",
       "        vertical-align: middle;\n",
       "    }\n",
       "\n",
       "    .dataframe tbody tr th {\n",
       "        vertical-align: top;\n",
       "    }\n",
       "\n",
       "    .dataframe thead th {\n",
       "        text-align: right;\n",
       "    }\n",
       "</style>\n",
       "<table border=\"1\" class=\"dataframe\">\n",
       "  <thead>\n",
       "    <tr style=\"text-align: right;\">\n",
       "      <th></th>\n",
       "      <th>YearsExperience</th>\n",
       "      <th>Salary</th>\n",
       "    </tr>\n",
       "  </thead>\n",
       "  <tbody>\n",
       "    <tr>\n",
       "      <th>0</th>\n",
       "      <td>1.1</td>\n",
       "      <td>39343.0</td>\n",
       "    </tr>\n",
       "    <tr>\n",
       "      <th>1</th>\n",
       "      <td>1.3</td>\n",
       "      <td>46205.0</td>\n",
       "    </tr>\n",
       "    <tr>\n",
       "      <th>2</th>\n",
       "      <td>1.5</td>\n",
       "      <td>37731.0</td>\n",
       "    </tr>\n",
       "  </tbody>\n",
       "</table>\n",
       "</div>"
      ],
      "text/plain": [
       "   YearsExperience   Salary\n",
       "0              1.1  39343.0\n",
       "1              1.3  46205.0\n",
       "2              1.5  37731.0"
      ]
     },
     "execution_count": 3,
     "metadata": {},
     "output_type": "execute_result"
    }
   ],
   "source": [
    "data.head(3)"
   ]
  },
  {
   "cell_type": "code",
   "execution_count": 4,
   "id": "e5ac5b67",
   "metadata": {},
   "outputs": [
    {
     "data": {
      "text/plain": [
       "(30, 2)"
      ]
     },
     "execution_count": 4,
     "metadata": {},
     "output_type": "execute_result"
    }
   ],
   "source": [
    "data.shape"
   ]
  },
  {
   "cell_type": "code",
   "execution_count": 5,
   "id": "c272ef8b",
   "metadata": {},
   "outputs": [
    {
     "data": {
      "text/plain": [
       "YearsExperience    float64\n",
       "Salary             float64\n",
       "dtype: object"
      ]
     },
     "execution_count": 5,
     "metadata": {},
     "output_type": "execute_result"
    }
   ],
   "source": [
    "data.dtypes"
   ]
  },
  {
   "cell_type": "code",
   "execution_count": 6,
   "id": "5a8ee348",
   "metadata": {},
   "outputs": [
    {
     "data": {
      "text/plain": [
       "<bound method DataFrame.info of     YearsExperience    Salary\n",
       "0               1.1   39343.0\n",
       "1               1.3   46205.0\n",
       "2               1.5   37731.0\n",
       "3               2.0   43525.0\n",
       "4               2.2   39891.0\n",
       "5               2.9   56642.0\n",
       "6               3.0   60150.0\n",
       "7               3.2   54445.0\n",
       "8               3.2   64445.0\n",
       "9               3.7   57189.0\n",
       "10              3.9   63218.0\n",
       "11              4.0   55794.0\n",
       "12              4.0   56957.0\n",
       "13              4.1   57081.0\n",
       "14              4.5   61111.0\n",
       "15              4.9   67938.0\n",
       "16              5.1   66029.0\n",
       "17              5.3   83088.0\n",
       "18              5.9   81363.0\n",
       "19              6.0   93940.0\n",
       "20              6.8   91738.0\n",
       "21              7.1   98273.0\n",
       "22              7.9  101302.0\n",
       "23              8.2  113812.0\n",
       "24              8.7  109431.0\n",
       "25              9.0  105582.0\n",
       "26              9.5  116969.0\n",
       "27              9.6  112635.0\n",
       "28             10.3  122391.0\n",
       "29             10.5  121872.0>"
      ]
     },
     "execution_count": 6,
     "metadata": {},
     "output_type": "execute_result"
    }
   ],
   "source": [
    "data.info"
   ]
  },
  {
   "cell_type": "markdown",
   "id": "ae8c93c0",
   "metadata": {},
   "source": [
    "#### how the math work behind the SK Learn"
   ]
  },
  {
   "cell_type": "code",
   "execution_count": 20,
   "id": "a59d8020",
   "metadata": {},
   "outputs": [
    {
     "name": "stdout",
     "output_type": "stream",
     "text": [
      "0 0 0 139.0\n",
      "0.078 0.022 1 132.50970400000003\n",
      "0.154152 0.043488 2 126.32291300934403\n",
      "0.228499728 0.064476112 3 120.42543394800244\n",
      "0.30108587731200004 0.084976161408 4 114.80373746002854\n",
      "0.37195213104268804 0.10499969382131201 5 109.4449268752172\n",
      "0.441139185996821 0.12455798164741326 6 104.33670862223835\n",
      "0.5086867760150064 0.1436620305681375 7 99.46736402536824\n",
      "0.5746336947592675 0.1623225858509112 8 94.82572242011629\n",
      "0.6390178179594581 0.18055013851065377 9 90.40113552607059\n"
     ]
    },
    {
     "data": {
      "image/png": "[encoded data removed]",
      "text/plain": [
       "<Figure size 432x288 with 1 Axes>"
      ]
     },
     "metadata": {
      "needs_background": "light"
     },
     "output_type": "display_data"
    }
   ],
   "source": [
    "a = 0\n",
    "b = 0\n",
    "rate = 0.001\n",
    "x = np.array([1,2,3,4,5]) # y = 3x+2\n",
    "y = np.array([5,8,11,14,17])\n",
    "n = len(x)\n",
    "\n",
    "\n",
    "for i in range(10): # for changing the value of  a and b\n",
    "    y_pred = a*x+b\n",
    "    cost = (1/n)*sum([value**2 for value in (y - y_pred)])     \n",
    "    print(a,b,i,cost) # Updating value\n",
    "    plt.scatter(x,y,color = 'red')\n",
    "    ad = -(2/n)*sum(x*(y-y_pred))#partial derivatives of a \n",
    "    yd = -(2/n)*sum(y-y_pred) #partial derivatives of b\n",
    "    a = a - rate*ad #update the value for a\n",
    "    b = b - rate*yd #update the value for b"
   ]
  },
  {
   "cell_type": "code",
   "execution_count": null,
   "id": "d251f2ff",
   "metadata": {},
   "outputs": [],
   "source": []
  }
 ],
 "metadata": {
  "kernelspec": {
   "display_name": "Python 3",
   "language": "python",
   "name": "python3"
  },
  "language_info": {
   "codemirror_mode": {
    "name": "ipython",
    "version": 3
   },
   "file_extension": ".py",
   "mimetype": "text/x-python",
   "name": "python",
   "nbconvert_exporter": "python",
   "pygments_lexer": "ipython3",
   "version": "3.8.8"
  }
 },
 "nbformat": 4,
 "nbformat_minor": 5
}
